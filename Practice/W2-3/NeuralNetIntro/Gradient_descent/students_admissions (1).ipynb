{
  "nbformat": 4,
  "nbformat_minor": 0,
  "metadata": {
    "colab": {
      "name": "students_admissions.ipynb",
      "provenance": []
    },
    "kernelspec": {
      "name": "python3",
      "display_name": "Python 3"
    },
    "language_info": {
      "name": "python"
    }
  },
  "cells": [
    {
      "cell_type": "code",
      "metadata": {
        "colab": {
          "base_uri": "https://localhost:8080/"
        },
        "id": "Ss2xLcHKhIXH",
        "outputId": "c98d759f-a439-4978-a60d-45a130347e10"
      },
      "source": [
        "! git clone https://github.com/mabhay3420/Deep-Into-CNN.git"
      ],
      "execution_count": 1,
      "outputs": [
        {
          "output_type": "stream",
          "text": [
            "fatal: destination path 'Deep-Into-CNN' already exists and is not an empty directory.\n"
          ],
          "name": "stdout"
        }
      ]
    },
    {
      "cell_type": "code",
      "metadata": {
        "id": "QXC-ky8oAXBY"
      },
      "source": [
        "import matplotlib.pyplot as plt\n",
        "import numpy as np\n",
        "import pandas as pd\n",
        "import seaborn as sns\n",
        "import warnings\n",
        "warnings.filterwarnings('ignore')\n",
        "\n",
        "def plot_points(X, y):\n",
        "    admitted = X[np.argwhere(y==1)]\n",
        "    rejected = X[np.argwhere(y==0)]\n",
        "    plt.scatter([s[0][0] for s in rejected], [s[0][1] for s in rejected], s = 25, color = 'blue', edgecolor = 'k')\n",
        "    plt.scatter([s[0][0] for s in admitted], [s[0][1] for s in admitted], s = 25, color = 'red', edgecolor = 'k')\n",
        "\n",
        "def display(m, b, color='g--'):\n",
        "    plt.xlim(-0.05,1.05)\n",
        "    plt.ylim(-0.05,1.05)\n",
        "    x = np.arange(-10, 10, 0.1)\n",
        "    plt.plot(x, m*x+b, color)"
      ],
      "execution_count": 3,
      "outputs": []
    },
    {
      "cell_type": "code",
      "metadata": {
        "colab": {
          "base_uri": "https://localhost:8080/",
          "height": 443
        },
        "id": "vWSmjoNoAixI",
        "outputId": "ebcf5fde-cd5a-4a7f-99b3-5f120d0b53c8"
      },
      "source": [
        "data = pd.read_csv('Deep-Into-CNN/W2-3/NeuralNetIntro/gradient-descent/data.csv', header = None)\n",
        "X = np.array(data[[0,1]])\n",
        "y = np.array((data[2]))\n",
        "plot_points(X,y)\n",
        "plt.show()\n"
      ],
      "execution_count": 55,
      "outputs": [
        {
          "output_type": "display_data",
          "data": {
            "image/png": "[encoded data removed]",
            "text/plain": [
              "<Figure size 432x288 with 1 Axes>"
            ]
          },
          "metadata": {
            "tags": [],
            "needs_background": "light"
          }
        },
        {
          "output_type": "execute_result",
          "data": {
            "text/html": [
              "<div>\n",
              "<style scoped>\n",
              "    .dataframe tbody tr th:only-of-type {\n",
              "        vertical-align: middle;\n",
              "    }\n",
              "\n",
              "    .dataframe tbody tr th {\n",
              "        vertical-align: top;\n",
              "    }\n",
              "\n",
              "    .dataframe thead th {\n",
              "        text-align: right;\n",
              "    }\n",
              "</style>\n",
              "<table border=\"1\" class=\"dataframe\">\n",
              "  <thead>\n",
              "    <tr style=\"text-align: right;\">\n",
              "      <th></th>\n",
              "      <th>0</th>\n",
              "      <th>1</th>\n",
              "      <th>2</th>\n",
              "    </tr>\n",
              "  </thead>\n",
              "  <tbody>\n",
              "    <tr>\n",
              "      <th>0</th>\n",
              "      <td>0.78051</td>\n",
              "      <td>-0.063669</td>\n",
              "      <td>1</td>\n",
              "    </tr>\n",
              "    <tr>\n",
              "      <th>1</th>\n",
              "      <td>0.28774</td>\n",
              "      <td>0.291390</td>\n",
              "      <td>1</td>\n",
              "    </tr>\n",
              "    <tr>\n",
              "      <th>2</th>\n",
              "      <td>0.40714</td>\n",
              "      <td>0.178780</td>\n",
              "      <td>1</td>\n",
              "    </tr>\n",
              "    <tr>\n",
              "      <th>3</th>\n",
              "      <td>0.29230</td>\n",
              "      <td>0.421700</td>\n",
              "      <td>1</td>\n",
              "    </tr>\n",
              "    <tr>\n",
              "      <th>4</th>\n",
              "      <td>0.50922</td>\n",
              "      <td>0.352560</td>\n",
              "      <td>1</td>\n",
              "    </tr>\n",
              "  </tbody>\n",
              "</table>\n",
              "</div>"
            ],
            "text/plain": [
              "         0         1  2\n",
              "0  0.78051 -0.063669  1\n",
              "1  0.28774  0.291390  1\n",
              "2  0.40714  0.178780  1\n",
              "3  0.29230  0.421700  1\n",
              "4  0.50922  0.352560  1"
            ]
          },
          "metadata": {
            "tags": []
          },
          "execution_count": 55
        }
      ]
    },
    {
      "cell_type": "code",
      "metadata": {
        "id": "_Bpc2tVmA-oe"
      },
      "source": [
        "def sigmoid(x):\n",
        "  return 1/(1 + np.exp(-x))\n",
        "\n",
        "def output_formula(features, weights, bias):\n",
        "  return sigmoid(np.dot(features,weights) + bias)\n",
        "\n",
        "def error_formula(y, output):\n",
        "    return -y*np.log(output) - (1-y)*np.log(1 - output)\n",
        "\n",
        "def update_weights(x, y, weights, bias, learnrate):\n",
        "    bias += learnrate*(y - output_formula(x,weights,bias))\n",
        "    weights += learnrate*(y - output_formula(x,weights,bias))\n",
        "    return weights,bias"
      ],
      "execution_count": 69,
      "outputs": []
    },
    {
      "cell_type": "code",
      "metadata": {
        "colab": {
          "base_uri": "https://localhost:8080/"
        },
        "id": "e7N0Keb0NghK",
        "outputId": "c98da621-b27a-44e6-f19c-2c80b39b343d"
      },
      "source": [
        "n_records, n_features = X.shape\n",
        "weights = np.random.normal(scale=1 / n_features**.5, size=n_features)\n",
        "weights.shape"
      ],
      "execution_count": 60,
      "outputs": [
        {
          "output_type": "execute_result",
          "data": {
            "text/plain": [
              "(2,)"
            ]
          },
          "metadata": {
            "tags": []
          },
          "execution_count": 60
        }
      ]
    },
    {
      "cell_type": "code",
      "metadata": {
        "id": "HriCh-BlBfDZ"
      },
      "source": [
        "np.random.seed(44)\n",
        "\n",
        "epochs = 100\n",
        "learnrate = 0.01\n",
        "\n",
        "def train(features, targets, epochs, learnrate, graph_lines=False):\n",
        "    \n",
        "    errors = []\n",
        "    n_records, n_features = features.shape\n",
        "    last_loss = None\n",
        "    weights = np.random.normal(scale=1 / n_features**.5, size=n_features)\n",
        "    bias = 0\n",
        "    for e in range(epochs):\n",
        "        del_w = np.zeros(weights.shape)\n",
        "        for x, y in zip(features, targets):\n",
        "            weights, bias = update_weights(x, y, weights, bias, learnrate)\n",
        "        \n",
        "        # Printing out the log-loss error on the training set\n",
        "        out = output_formula(features, weights, bias)\n",
        "        loss = np.mean(error_formula(targets, out))\n",
        "        errors.append(loss)\n",
        "        if e % (epochs / 10) == 0:\n",
        "            print(\"\\n========== Epoch\", e,\"==========\")\n",
        "            if last_loss and last_loss < loss:\n",
        "                print(\"Train loss: \", loss, \"  WARNING - Loss Increasing\")\n",
        "            else:\n",
        "                print(\"Train loss: \", loss)\n",
        "            last_loss = loss\n",
        "            \n",
        "            # Converting the output (float) to boolean as it is a binary classification\n",
        "            # e.g. 0.95 --> True (= 1), 0.31 --> False (= 0)\n",
        "            predictions = out > 0.5\n",
        "            \n",
        "            accuracy = np.mean(predictions == targets)\n",
        "            print(\"Accuracy: \", accuracy)\n",
        "        if graph_lines and e % (epochs / 100) == 0:\n",
        "            display(-weights[0]/weights[1], -bias/weights[1])\n",
        "            \n",
        "\n",
        "    # Plotting the solution boundary\n",
        "    plt.title(\"Solution boundary\")\n",
        "    display(-weights[0]/weights[1], -bias/weights[1], 'black')\n",
        "\n",
        "    # Plotting the data\n",
        "    plot_points(features, targets)\n",
        "    plt.show()\n",
        "\n",
        "    # Plotting the error\n",
        "    plt.title(\"Error Plot\")\n",
        "    plt.xlabel('Number of epochs')\n",
        "    plt.ylabel('Error')\n",
        "    plt.plot(errors)\n",
        "    plt.show()"
      ],
      "execution_count": 67,
      "outputs": []
    },
    {
      "cell_type": "code",
      "metadata": {
        "colab": {
          "base_uri": "https://localhost:8080/",
          "height": 1000
        },
        "id": "Sq2gJBISCgHh",
        "outputId": "04de8c15-c6c5-409b-b1f7-aa9575b0c917"
      },
      "source": [
        "train(X, y, epochs, learnrate, True)"
      ],
      "execution_count": 70,
      "outputs": [
        {
          "output_type": "stream",
          "text": [
            "\n",
            "========== Epoch 0 ==========\n",
            "Train loss:  0.6698339773477209\n",
            "Accuracy:  0.6\n",
            "\n",
            "========== Epoch 10 ==========\n",
            "Train loss:  0.6678900573205115\n",
            "Accuracy:  0.6\n",
            "\n",
            "========== Epoch 20 ==========\n",
            "Train loss:  0.6678799442280782\n",
            "Accuracy:  0.6\n",
            "\n",
            "========== Epoch 30 ==========\n",
            "Train loss:  0.6678784844015115\n",
            "Accuracy:  0.6\n",
            "\n",
            "========== Epoch 40 ==========\n",
            "Train loss:  0.6678770808773016\n",
            "Accuracy:  0.6\n",
            "\n",
            "========== Epoch 50 ==========\n",
            "Train loss:  0.6678756777260044\n",
            "Accuracy:  0.6\n",
            "\n",
            "========== Epoch 60 ==========\n",
            "Train loss:  0.6678742745826711\n",
            "Accuracy:  0.6\n",
            "\n",
            "========== Epoch 70 ==========\n",
            "Train loss:  0.6678728714449207\n",
            "Accuracy:  0.6\n",
            "\n",
            "========== Epoch 80 ==========\n",
            "Train loss:  0.667871468312737\n",
            "Accuracy:  0.6\n",
            "\n",
            "========== Epoch 90 ==========\n",
            "Train loss:  0.667870065186121\n",
            "Accuracy:  0.6\n"
          ],
          "name": "stdout"
        },
        {
          "output_type": "display_data",
          "data": {
            "image/png": "[encoded data removed]",
            "text/plain": [
              "<Figure size 432x288 with 1 Axes>"
            ]
          },
          "metadata": {
            "tags": [],
            "needs_background": "light"
          }
        },
        {
          "output_type": "display_data",
          "data": {
            "image/png": "[encoded data removed]",
            "text/plain": [
              "<Figure size 432x288 with 1 Axes>"
            ]
          },
          "metadata": {
            "tags": [],
            "needs_background": "light"
          }
        }
      ]
    },
    {
      "cell_type": "code",
      "metadata": {
        "id": "Qs_6v_OPCnf7"
      },
      "source": [
        ""
      ],
      "execution_count": null,
      "outputs": []
    }
  ]
}