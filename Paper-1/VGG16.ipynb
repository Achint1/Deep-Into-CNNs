{
  "nbformat": 4,
  "nbformat_minor": 0,
  "metadata": {
    "colab": {
      "name": "VGG16.ipynb",
      "provenance": [],
      "collapsed_sections": []
    },
    "kernelspec": {
      "name": "python3",
      "display_name": "Python 3"
    },
    "language_info": {
      "name": "python"
    },
    "accelerator": "GPU",
    "widgets": {
      "application/vnd.jupyter.widget-state+json": {
        "990fbfaf02434cc993cd1370c3a1f352": {
          "model_module": "@jupyter-widgets/controls",
          "model_name": "HBoxModel",
          "state": {
            "_view_name": "HBoxView",
            "_dom_classes": [],
            "_model_name": "HBoxModel",
            "_view_module": "@jupyter-widgets/controls",
            "_model_module_version": "1.5.0",
            "_view_count": null,
            "_view_module_version": "1.5.0",
            "box_style": "",
            "layout": "IPY_MODEL_4390523037484c4796e06506a87f0949",
            "_model_module": "@jupyter-widgets/controls",
            "children": [
              "IPY_MODEL_751a692db2a145b6b6dc284ac9d93e44",
              "IPY_MODEL_b92b6432e2fa4c2e9ec9b69fb11afe07"
            ]
          }
        },
        "4390523037484c4796e06506a87f0949": {
          "model_module": "@jupyter-widgets/base",
          "model_name": "LayoutModel",
          "state": {
            "_view_name": "LayoutView",
            "grid_template_rows": null,
            "right": null,
            "justify_content": null,
            "_view_module": "@jupyter-widgets/base",
            "overflow": null,
            "_model_module_version": "1.2.0",
            "_view_count": null,
            "flex_flow": null,
            "width": null,
            "min_width": null,
            "border": null,
            "align_items": null,
            "bottom": null,
            "_model_module": "@jupyter-widgets/base",
            "top": null,
            "grid_column": null,
            "overflow_y": null,
            "overflow_x": null,
            "grid_auto_flow": null,
            "grid_area": null,
            "grid_template_columns": null,
            "flex": null,
            "_model_name": "LayoutModel",
            "justify_items": null,
            "grid_row": null,
            "max_height": null,
            "align_content": null,
            "visibility": null,
            "align_self": null,
            "height": null,
            "min_height": null,
            "padding": null,
            "grid_auto_rows": null,
            "grid_gap": null,
            "max_width": null,
            "order": null,
            "_view_module_version": "1.2.0",
            "grid_template_areas": null,
            "object_position": null,
            "object_fit": null,
            "grid_auto_columns": null,
            "margin": null,
            "display": null,
            "left": null
          }
        },
        "751a692db2a145b6b6dc284ac9d93e44": {
          "model_module": "@jupyter-widgets/controls",
          "model_name": "FloatProgressModel",
          "state": {
            "_view_name": "ProgressView",
            "style": "IPY_MODEL_638a3e62b4d1453b8c768e0b7c937402",
            "_dom_classes": [],
            "description": "",
            "_model_name": "FloatProgressModel",
            "bar_style": "success",
            "max": 170498071,
            "_view_module": "@jupyter-widgets/controls",
            "_model_module_version": "1.5.0",
            "value": 170498071,
            "_view_count": null,
            "_view_module_version": "1.5.0",
            "orientation": "horizontal",
            "min": 0,
            "description_tooltip": null,
            "_model_module": "@jupyter-widgets/controls",
            "layout": "IPY_MODEL_f082b9454f544756833994f8805ceaca"
          }
        },
        "b92b6432e2fa4c2e9ec9b69fb11afe07": {
          "model_module": "@jupyter-widgets/controls",
          "model_name": "HTMLModel",
          "state": {
            "_view_name": "HTMLView",
            "style": "IPY_MODEL_25da4dd748544c798681491dec1514a5",
            "_dom_classes": [],
            "description": "",
            "_model_name": "HTMLModel",
            "placeholder": "​",
            "_view_module": "@jupyter-widgets/controls",
            "_model_module_version": "1.5.0",
            "value": " 170499072/? [00:03&lt;00:00, 53293760.73it/s]",
            "_view_count": null,
            "_view_module_version": "1.5.0",
            "description_tooltip": null,
            "_model_module": "@jupyter-widgets/controls",
            "layout": "IPY_MODEL_d1f0d02c109b4a4183c02e3f5312808a"
          }
        },
        "638a3e62b4d1453b8c768e0b7c937402": {
          "model_module": "@jupyter-widgets/controls",
          "model_name": "ProgressStyleModel",
          "state": {
            "_view_name": "StyleView",
            "_model_name": "ProgressStyleModel",
            "description_width": "initial",
            "_view_module": "@jupyter-widgets/base",
            "_model_module_version": "1.5.0",
            "_view_count": null,
            "_view_module_version": "1.2.0",
            "bar_color": null,
            "_model_module": "@jupyter-widgets/controls"
          }
        },
        "f082b9454f544756833994f8805ceaca": {
          "model_module": "@jupyter-widgets/base",
          "model_name": "LayoutModel",
          "state": {
            "_view_name": "LayoutView",
            "grid_template_rows": null,
            "right": null,
            "justify_content": null,
            "_view_module": "@jupyter-widgets/base",
            "overflow": null,
            "_model_module_version": "1.2.0",
            "_view_count": null,
            "flex_flow": null,
            "width": null,
            "min_width": null,
            "border": null,
            "align_items": null,
            "bottom": null,
            "_model_module": "@jupyter-widgets/base",
            "top": null,
            "grid_column": null,
            "overflow_y": null,
            "overflow_x": null,
            "grid_auto_flow": null,
            "grid_area": null,
            "grid_template_columns": null,
            "flex": null,
            "_model_name": "LayoutModel",
            "justify_items": null,
            "grid_row": null,
            "max_height": null,
            "align_content": null,
            "visibility": null,
            "align_self": null,
            "height": null,
            "min_height": null,
            "padding": null,
            "grid_auto_rows": null,
            "grid_gap": null,
            "max_width": null,
            "order": null,
            "_view_module_version": "1.2.0",
            "grid_template_areas": null,
            "object_position": null,
            "object_fit": null,
            "grid_auto_columns": null,
            "margin": null,
            "display": null,
            "left": null
          }
        },
        "25da4dd748544c798681491dec1514a5": {
          "model_module": "@jupyter-widgets/controls",
          "model_name": "DescriptionStyleModel",
          "state": {
            "_view_name": "StyleView",
            "_model_name": "DescriptionStyleModel",
            "description_width": "",
            "_view_module": "@jupyter-widgets/base",
            "_model_module_version": "1.5.0",
            "_view_count": null,
            "_view_module_version": "1.2.0",
            "_model_module": "@jupyter-widgets/controls"
          }
        },
        "d1f0d02c109b4a4183c02e3f5312808a": {
          "model_module": "@jupyter-widgets/base",
          "model_name": "LayoutModel",
          "state": {
            "_view_name": "LayoutView",
            "grid_template_rows": null,
            "right": null,
            "justify_content": null,
            "_view_module": "@jupyter-widgets/base",
            "overflow": null,
            "_model_module_version": "1.2.0",
            "_view_count": null,
            "flex_flow": null,
            "width": null,
            "min_width": null,
            "border": null,
            "align_items": null,
            "bottom": null,
            "_model_module": "@jupyter-widgets/base",
            "top": null,
            "grid_column": null,
            "overflow_y": null,
            "overflow_x": null,
            "grid_auto_flow": null,
            "grid_area": null,
            "grid_template_columns": null,
            "flex": null,
            "_model_name": "LayoutModel",
            "justify_items": null,
            "grid_row": null,
            "max_height": null,
            "align_content": null,
            "visibility": null,
            "align_self": null,
            "height": null,
            "min_height": null,
            "padding": null,
            "grid_auto_rows": null,
            "grid_gap": null,
            "max_width": null,
            "order": null,
            "_view_module_version": "1.2.0",
            "grid_template_areas": null,
            "object_position": null,
            "object_fit": null,
            "grid_auto_columns": null,
            "margin": null,
            "display": null,
            "left": null
          }
        }
      }
    }
  },
  "cells": [
    {
      "cell_type": "code",
      "metadata": {
        "id": "rJBqQgu3jRV4"
      },
      "source": [
        "import torch \n",
        "import torch.nn as nn\n",
        "import os\n",
        "import time\n",
        "import importlib\n",
        "import json\n",
        "from collections import OrderedDict\n",
        "import logging\n",
        "import argparse\n",
        "import numpy as np \n",
        "import random\n",
        "import time\n",
        "from tqdm.notebook import tqdm\n",
        "\n",
        "import torch\n",
        "import torch.nn as nn\n",
        "import torch.optim\n",
        "import torch.utils.data\n",
        "import torch.backends.cudnn\n",
        "import torchvision.utils\n",
        "import torch.nn.functional as F\n",
        "import seaborn as sns\n",
        "import matplotlib.pyplot as plt\n",
        "import pandas as pd\n",
        "from sklearn.metrics import confusion_matrix\n",
        "\n",
        "import torchvision.transforms as transforms\n",
        "import torchvision"
      ],
      "execution_count": 2,
      "outputs": []
    },
    {
      "cell_type": "markdown",
      "metadata": {
        "id": "gXtbPAOLZjoW"
      },
      "source": [
        "**SIMPLE VGG ARCHITECTURE **"
      ]
    },
    {
      "cell_type": "code",
      "metadata": {
        "id": "Ii--g1RqjS6P"
      },
      "source": [
        "architecture = [64 , 64 , -1 , 128 , 128 , -1 , 256 , 256, 256 , -1, 512, 512, 512 , -1 , 512 ,512, 512,-1]\n",
        "class VGG(nn.Module):\n",
        "   def __init__(self,in_channels=3,num_classes=10):\n",
        "    super(VGG,self).__init__()\n",
        "    self.in_channels = in_channels\n",
        "    self.mai = self.main_architecture(architecture)\n",
        "    self.fcs = nn.Sequential(nn.Linear(512,4096),\n",
        "                            nn.ReLU(),\n",
        "                            nn.Dropout(p=0.5),\n",
        "                            nn.Linear(4096,4096),\n",
        "                            nn.ReLU(),\n",
        "                            nn.Dropout(p=0.5),\n",
        "                            nn.Linear(4096,num_classes))                               \n",
        "   def forward(self,x):\n",
        "     x = self.mai(x)\n",
        "     x = x.reshape(x.shape[0], -1)\n",
        "     x = self.fcs(x)\n",
        "     return x \n",
        "   def main_architecture(self,architecture):\n",
        "            blocks = []\n",
        "            in_channels = self.in_channels\n",
        "            for layer in architecture:\n",
        "                      if layer != -1 : \n",
        "                        out_channels = layer\n",
        "                        blocks+=[nn.Conv2d(in_channels=in_channels,out_channels = out_channels , kernel_size = (3,3) , stride =(1,1) ,padding = (1,1) ),nn.BatchNorm2d(layer),nn.ReLU()]\n",
        "                        in_channels = layer \n",
        "                      elif layer == -1 :\n",
        "                        blocks+=[(nn.MaxPool2d(kernel_size=(2,2),stride= (2,2)))]\n",
        "            return nn.Sequential(*blocks)\n",
        "\n",
        "  "
      ],
      "execution_count": 3,
      "outputs": []
    },
    {
      "cell_type": "code",
      "metadata": {
        "colab": {
          "base_uri": "https://localhost:8080/",
          "height": 101,
          "referenced_widgets": [
            "990fbfaf02434cc993cd1370c3a1f352",
            "4390523037484c4796e06506a87f0949",
            "751a692db2a145b6b6dc284ac9d93e44",
            "b92b6432e2fa4c2e9ec9b69fb11afe07",
            "638a3e62b4d1453b8c768e0b7c937402",
            "f082b9454f544756833994f8805ceaca",
            "25da4dd748544c798681491dec1514a5",
            "d1f0d02c109b4a4183c02e3f5312808a"
          ]
        },
        "id": "To2a2qRGfCu6",
        "outputId": "20ce75af-0ce3-4199-fdff-bab0330355cf"
      },
      "source": [
        "transform = transforms.Compose([transforms.Pad(4),transforms.RandomHorizontalFlip(),transforms.RandomCrop(32),transforms.ToTensor(), transforms.Normalize((0.4914, 0.4822, 0.4465), (0.2023, 0.1994, 0.2010))])\n",
        "test_transform  = transforms.Compose([transforms.ToTensor(),transforms.Normalize(mean=(0.5,0.5,0.5),std=(0.5,0.5,0.5))])\n",
        "\n",
        "train_dataset = torchvision.datasets.CIFAR10(root='../../data/', train=True,transform=transform, download=True)\n",
        "test_dataset = torchvision.datasets.CIFAR10(root='../../data/', train=False,transform=test_transform)\n",
        "train_loader = torch.utils.data.DataLoader(dataset=train_dataset, batch_size=64, shuffle=True)\n",
        "test_loader = torch.utils.data.DataLoader(dataset=test_dataset,batch_size=64, shuffle=False)"
      ],
      "execution_count": 4,
      "outputs": [
        {
          "output_type": "stream",
          "text": [
            "Downloading https://www.cs.toronto.edu/~kriz/cifar-10-python.tar.gz to ../../data/cifar-10-python.tar.gz\n"
          ],
          "name": "stdout"
        },
        {
          "output_type": "display_data",
          "data": {
            "application/vnd.jupyter.widget-view+json": {
              "model_id": "990fbfaf02434cc993cd1370c3a1f352",
              "version_minor": 0,
              "version_major": 2
            },
            "text/plain": [
              "HBox(children=(FloatProgress(value=0.0, max=170498071.0), HTML(value='')))"
            ]
          },
          "metadata": {
            "tags": []
          }
        },
        {
          "output_type": "stream",
          "text": [
            "\n",
            "Extracting ../../data/cifar-10-python.tar.gz to ../../data/\n"
          ],
          "name": "stdout"
        }
      ]
    },
    {
      "cell_type": "code",
      "metadata": {
        "colab": {
          "base_uri": "https://localhost:8080/"
        },
        "id": "YYlT8FnDfCye",
        "outputId": "14f0c433-c43b-45f1-eee0-91730a721e42"
      },
      "source": [
        "depth = 2\n",
        "epochs = 5\n",
        "batch_size = 256\n",
        "base_lr = 0.001\n",
        "lr_decay = 0.1\n",
        "milestones = '[80, 120]'\n",
        "device = \"cuda\"\n",
        "num_workers = 3\n",
        "\n",
        "model = VGG(in_channels = 3, num_classes = 10).to(device)\n",
        "criterion = nn.CrossEntropyLoss()\n",
        "optimizer = torch.optim.SGD(model.parameters(), lr=base_lr)\n",
        "for epoch in range(epochs):\n",
        "  for i, (images, labels) in enumerate(train_loader):\n",
        "    images = images.to(device)\n",
        "    labels = labels.to(device)\n",
        "    outputs = model(images)\n",
        "    loss = criterion(outputs, labels)\n",
        "    optimizer.zero_grad()\n",
        "    loss.backward()\n",
        "    optimizer.step()\n",
        "    if (i+1) % 50 == 0:\n",
        "      print (\"Epoch {}, Step {} Loss: {:.4f}\".format(epoch+1, i+1, loss.item()))   "
      ],
      "execution_count": 10,
      "outputs": [
        {
          "output_type": "stream",
          "text": [
            "Epoch 1, Step 50 Loss: 2.2989\n",
            "Epoch 1, Step 100 Loss: 2.3561\n",
            "Epoch 1, Step 150 Loss: 2.2739\n",
            "Epoch 1, Step 200 Loss: 2.2287\n",
            "Epoch 1, Step 250 Loss: 2.1492\n",
            "Epoch 1, Step 300 Loss: 2.1338\n",
            "Epoch 1, Step 350 Loss: 2.1772\n",
            "Epoch 1, Step 400 Loss: 2.0471\n",
            "Epoch 1, Step 450 Loss: 1.9989\n",
            "Epoch 1, Step 500 Loss: 2.0576\n",
            "Epoch 1, Step 550 Loss: 1.9274\n",
            "Epoch 1, Step 600 Loss: 1.8634\n",
            "Epoch 1, Step 650 Loss: 1.8943\n",
            "Epoch 1, Step 700 Loss: 1.8361\n",
            "Epoch 1, Step 750 Loss: 1.8466\n",
            "Epoch 2, Step 50 Loss: 1.7281\n",
            "Epoch 2, Step 100 Loss: 1.9103\n",
            "Epoch 2, Step 150 Loss: 1.7001\n",
            "Epoch 2, Step 200 Loss: 1.8693\n",
            "Epoch 2, Step 250 Loss: 1.7214\n",
            "Epoch 2, Step 300 Loss: 1.8023\n",
            "Epoch 2, Step 350 Loss: 1.9823\n",
            "Epoch 2, Step 400 Loss: 1.6821\n",
            "Epoch 2, Step 450 Loss: 1.5913\n",
            "Epoch 2, Step 500 Loss: 1.6903\n",
            "Epoch 2, Step 550 Loss: 1.8703\n",
            "Epoch 2, Step 600 Loss: 1.5478\n",
            "Epoch 2, Step 650 Loss: 1.5454\n",
            "Epoch 2, Step 700 Loss: 1.6727\n",
            "Epoch 2, Step 750 Loss: 1.6656\n",
            "Epoch 3, Step 50 Loss: 1.5535\n",
            "Epoch 3, Step 100 Loss: 1.5969\n",
            "Epoch 3, Step 150 Loss: 1.5097\n",
            "Epoch 3, Step 200 Loss: 1.4069\n",
            "Epoch 3, Step 250 Loss: 1.4926\n",
            "Epoch 3, Step 300 Loss: 1.5584\n",
            "Epoch 3, Step 350 Loss: 1.3936\n",
            "Epoch 3, Step 400 Loss: 1.3489\n",
            "Epoch 3, Step 450 Loss: 1.4299\n",
            "Epoch 3, Step 500 Loss: 1.4952\n",
            "Epoch 3, Step 550 Loss: 1.7395\n",
            "Epoch 3, Step 600 Loss: 1.5027\n",
            "Epoch 3, Step 650 Loss: 1.4145\n",
            "Epoch 3, Step 700 Loss: 1.4864\n",
            "Epoch 3, Step 750 Loss: 1.3010\n",
            "Epoch 4, Step 50 Loss: 1.0620\n",
            "Epoch 4, Step 100 Loss: 1.6060\n",
            "Epoch 4, Step 150 Loss: 1.3804\n",
            "Epoch 4, Step 200 Loss: 1.2224\n",
            "Epoch 4, Step 250 Loss: 1.2363\n",
            "Epoch 4, Step 300 Loss: 1.4118\n",
            "Epoch 4, Step 350 Loss: 1.1666\n",
            "Epoch 4, Step 400 Loss: 1.2945\n",
            "Epoch 4, Step 450 Loss: 1.2012\n",
            "Epoch 4, Step 500 Loss: 0.9903\n",
            "Epoch 4, Step 550 Loss: 1.4787\n",
            "Epoch 4, Step 600 Loss: 1.4522\n",
            "Epoch 4, Step 650 Loss: 1.3785\n",
            "Epoch 4, Step 700 Loss: 1.1908\n",
            "Epoch 4, Step 750 Loss: 1.3561\n",
            "Epoch 5, Step 50 Loss: 1.0533\n",
            "Epoch 5, Step 100 Loss: 1.1741\n",
            "Epoch 5, Step 150 Loss: 1.0894\n",
            "Epoch 5, Step 200 Loss: 1.1977\n",
            "Epoch 5, Step 250 Loss: 1.1277\n",
            "Epoch 5, Step 300 Loss: 1.0809\n",
            "Epoch 5, Step 350 Loss: 1.1632\n",
            "Epoch 5, Step 400 Loss: 1.3552\n",
            "Epoch 5, Step 450 Loss: 1.0398\n",
            "Epoch 5, Step 500 Loss: 1.1330\n",
            "Epoch 5, Step 550 Loss: 1.0766\n",
            "Epoch 5, Step 600 Loss: 1.2225\n",
            "Epoch 5, Step 650 Loss: 1.1493\n",
            "Epoch 5, Step 700 Loss: 0.9964\n",
            "Epoch 5, Step 750 Loss: 0.9800\n"
          ],
          "name": "stdout"
        }
      ]
    },
    {
      "cell_type": "code",
      "metadata": {
        "colab": {
          "base_uri": "https://localhost:8080/"
        },
        "id": "Tq6efYEIIhcz",
        "outputId": "40a0e04a-a16c-4c50-f7c9-ec651a1eb879"
      },
      "source": [
        "model.eval"
      ],
      "execution_count": 11,
      "outputs": [
        {
          "output_type": "execute_result",
          "data": {
            "text/plain": [
              "<bound method Module.eval of VGG(\n",
              "  (mai): Sequential(\n",
              "    (0): Conv2d(3, 64, kernel_size=(3, 3), stride=(1, 1), padding=(1, 1))\n",
              "    (1): BatchNorm2d(64, eps=1e-05, momentum=0.1, affine=True, track_running_stats=True)\n",
              "    (2): ReLU()\n",
              "    (3): Conv2d(64, 64, kernel_size=(3, 3), stride=(1, 1), padding=(1, 1))\n",
              "    (4): BatchNorm2d(64, eps=1e-05, momentum=0.1, affine=True, track_running_stats=True)\n",
              "    (5): ReLU()\n",
              "    (6): MaxPool2d(kernel_size=(2, 2), stride=(2, 2), padding=0, dilation=1, ceil_mode=False)\n",
              "    (7): Conv2d(64, 128, kernel_size=(3, 3), stride=(1, 1), padding=(1, 1))\n",
              "    (8): BatchNorm2d(128, eps=1e-05, momentum=0.1, affine=True, track_running_stats=True)\n",
              "    (9): ReLU()\n",
              "    (10): Conv2d(128, 128, kernel_size=(3, 3), stride=(1, 1), padding=(1, 1))\n",
              "    (11): BatchNorm2d(128, eps=1e-05, momentum=0.1, affine=True, track_running_stats=True)\n",
              "    (12): ReLU()\n",
              "    (13): MaxPool2d(kernel_size=(2, 2), stride=(2, 2), padding=0, dilation=1, ceil_mode=False)\n",
              "    (14): Conv2d(128, 256, kernel_size=(3, 3), stride=(1, 1), padding=(1, 1))\n",
              "    (15): BatchNorm2d(256, eps=1e-05, momentum=0.1, affine=True, track_running_stats=True)\n",
              "    (16): ReLU()\n",
              "    (17): Conv2d(256, 256, kernel_size=(3, 3), stride=(1, 1), padding=(1, 1))\n",
              "    (18): BatchNorm2d(256, eps=1e-05, momentum=0.1, affine=True, track_running_stats=True)\n",
              "    (19): ReLU()\n",
              "    (20): Conv2d(256, 256, kernel_size=(3, 3), stride=(1, 1), padding=(1, 1))\n",
              "    (21): BatchNorm2d(256, eps=1e-05, momentum=0.1, affine=True, track_running_stats=True)\n",
              "    (22): ReLU()\n",
              "    (23): MaxPool2d(kernel_size=(2, 2), stride=(2, 2), padding=0, dilation=1, ceil_mode=False)\n",
              "    (24): Conv2d(256, 512, kernel_size=(3, 3), stride=(1, 1), padding=(1, 1))\n",
              "    (25): BatchNorm2d(512, eps=1e-05, momentum=0.1, affine=True, track_running_stats=True)\n",
              "    (26): ReLU()\n",
              "    (27): Conv2d(512, 512, kernel_size=(3, 3), stride=(1, 1), padding=(1, 1))\n",
              "    (28): BatchNorm2d(512, eps=1e-05, momentum=0.1, affine=True, track_running_stats=True)\n",
              "    (29): ReLU()\n",
              "    (30): Conv2d(512, 512, kernel_size=(3, 3), stride=(1, 1), padding=(1, 1))\n",
              "    (31): BatchNorm2d(512, eps=1e-05, momentum=0.1, affine=True, track_running_stats=True)\n",
              "    (32): ReLU()\n",
              "    (33): MaxPool2d(kernel_size=(2, 2), stride=(2, 2), padding=0, dilation=1, ceil_mode=False)\n",
              "    (34): Conv2d(512, 512, kernel_size=(3, 3), stride=(1, 1), padding=(1, 1))\n",
              "    (35): BatchNorm2d(512, eps=1e-05, momentum=0.1, affine=True, track_running_stats=True)\n",
              "    (36): ReLU()\n",
              "    (37): Conv2d(512, 512, kernel_size=(3, 3), stride=(1, 1), padding=(1, 1))\n",
              "    (38): BatchNorm2d(512, eps=1e-05, momentum=0.1, affine=True, track_running_stats=True)\n",
              "    (39): ReLU()\n",
              "    (40): Conv2d(512, 512, kernel_size=(3, 3), stride=(1, 1), padding=(1, 1))\n",
              "    (41): BatchNorm2d(512, eps=1e-05, momentum=0.1, affine=True, track_running_stats=True)\n",
              "    (42): ReLU()\n",
              "    (43): MaxPool2d(kernel_size=(2, 2), stride=(2, 2), padding=0, dilation=1, ceil_mode=False)\n",
              "  )\n",
              "  (fcs): Sequential(\n",
              "    (0): Linear(in_features=512, out_features=4096, bias=True)\n",
              "    (1): ReLU()\n",
              "    (2): Dropout(p=0.5, inplace=False)\n",
              "    (3): Linear(in_features=4096, out_features=4096, bias=True)\n",
              "    (4): ReLU()\n",
              "    (5): Dropout(p=0.5, inplace=False)\n",
              "    (6): Linear(in_features=4096, out_features=10, bias=True)\n",
              "  )\n",
              ")>"
            ]
          },
          "metadata": {
            "tags": []
          },
          "execution_count": 11
        }
      ]
    },
    {
      "cell_type": "code",
      "metadata": {
        "colab": {
          "base_uri": "https://localhost:8080/"
        },
        "id": "Ix1t73kBiNLe",
        "outputId": "195e8de6-c941-4a31-aa30-a91bc2065127"
      },
      "source": [
        "with torch.no_grad():\n",
        "    correct = 0\n",
        "    total = 0\n",
        "    for images, labels in test_loader:\n",
        "        images = images.to(device)\n",
        "        labels = labels.to(device)\n",
        "        outputs = model(images)\n",
        "        _, predicted = torch.max(outputs.data, 1)\n",
        "        total += labels.size(0)\n",
        "        correct += (predicted == labels).sum().item()\n",
        "\n",
        "    print('Accuracy ( test images ) : {} %'.format(100 * correct / total))"
      ],
      "execution_count": 13,
      "outputs": [
        {
          "output_type": "stream",
          "text": [
            "Accuracy ( test images ) : 55.59 %\n"
          ],
          "name": "stdout"
        }
      ]
    },
    {
      "cell_type": "markdown",
      "metadata": {
        "id": "L7WELWr3zR41"
      },
      "source": [
        "BETTER ACCYRACY CAN BE ACHIEVED BY TUNING HYPERPARAMETERS PROPERLY\n"
      ]
    }
  ]
}